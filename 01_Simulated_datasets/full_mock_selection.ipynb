{
 "cells": [
  {
   "cell_type": "code",
   "execution_count": null,
   "id": "5011102c",
   "metadata": {},
   "outputs": [
    {
     "name": "stdout",
     "output_type": "stream",
     "text": [
      "                         Species    Taxon  reads  Proportion\n",
      "0   Jeotgalicoccus sp. ATCC 8456   946435   9884   22.658811\n",
      "1       Lactobacillus amylovorus     1604   7982   18.298526\n",
      "2                Segatella copri   165179   5494   12.594851\n",
      "3          Glaesserella parasuis      738   4456   10.215263\n",
      "4            Cutibacterium acnes     1747   2302    5.277275\n",
      "5    Limosilactobacillus reuteri     1598   1997    4.578070\n",
      "6              Segatella hominis  2518605   1540    3.530410\n",
      "7          Agathobacter rectalis    39491    581    1.331927\n",
      "8          Dorea formicigenerans    39486    492    1.127897\n",
      "9           Megasphaera elsdenii      907    431    0.988056\n",
      "10         Ruoffia tabacinasalis    87458    251    0.575411\n",
      "11    Streptococcus acidominimus     1326    210    0.481419\n",
      "12     Corynebacterium stationis     1705    202    0.463080\n",
      "13          Neisseria shayeganii   607712    202    0.463080\n",
      "14     Fusobacterium necrophorum      859    142    0.325531\n",
      "15     Streptococcus sp. ZY19097  3231906     16    0.036680\n",
      "16     Catenibacterium mitsuokai   100886     15    0.034387\n",
      "17         Eshraghiella crossota    45851     15    0.034387\n",
      "18            Roseburia sp. 831b  1261635     15    0.034387\n",
      "19        Staphylococcus hominis     1290     15    0.034387\n",
      "Total proportion sum: 100.00%\n",
      "Mock community proportions saved as 'full_training_set/mock_community_proportions.tsv'\n"
     ]
    }
   ],
   "source": [
    "import pandas as pd\n",
    "\n",
    "## I used this to quickly design a mock community with species present in my real dataset at different levels of abundance.  \n",
    "\n",
    "# CONFIG\n",
    "input_file = \"full_training_set/species_read_counts_summary.tsv\"\n",
    "\n",
    "# Load your full species summary file\n",
    "df = pd.read_csv(input_file, sep=\"\\t\", names=(\"Species\", \"Taxon\", \"reads\", \"Proportion\"))\n",
    "\n",
    "# Step 1: Stratified selection\n",
    "high_abundance = df.iloc[:20]\n",
    "medium_abundance = df.iloc[20:100]\n",
    "low_abundance = df.iloc[100:]\n",
    "\n",
    "# Select species per stratum\n",
    "high_selected = high_abundance.head(10)\n",
    "medium_selected = medium_abundance.head(5)\n",
    "low_selected = low_abundance.head(5)\n",
    "\n",
    "# Combine selected species\n",
    "selected_bacteria = pd.concat([high_selected, medium_selected, low_selected]).reset_index(drop=True)\n",
    "\n",
    "print(selected_bacteria)\n",
    "\n",
    "# Step 3: Rescale proportions to sum 98%\n",
    "total_selected_prop = selected_bacteria['Proportion'].sum()\n",
    "selected_bacteria['New_Proportion'] = (selected_bacteria['Proportion'] / total_selected_prop) * 98\n",
    "selected_bacteria['New_Proportion'] = selected_bacteria['New_Proportion'].round(2)\n",
    "\n",
    "# Step 4: Add fixed viruses\n",
    "virus_data = [\n",
    "    [\"Swine Influenza A Virus (IAV-S)\", \"Virus\", 0.14],\n",
    "    [\"Betaarterivirus suid 1 (PRRSV-1)\", \"Virus\", 0.14],\n",
    "    [\"Betacoronavirus 1\", \"Virus\", 0.30],\n",
    "    [\"Porcine parvovirus\", \"Virus\", 0.06],\n",
    "    [\"Suid betaherpesvirus 2\", \"Virus\", 1.36]\n",
    "]\n",
    "virus_df = pd.DataFrame(virus_data, columns=[\"Species\", \"Taxon\", \"New_Proportion\"])\n",
    "virus_df['New_Proportion'] = virus_df['New_Proportion'].round(2)\n",
    "\n",
    "# Step 5: Merge and export\n",
    "final_df = pd.concat([\n",
    "    selected_bacteria[['Species', 'Taxon', 'New_Proportion']],\n",
    "    virus_df\n",
    "]).reset_index(drop=True)\n",
    "\n",
    "# Optional: Check if total is exactly 100 \n",
    "total_prop_sum = final_df['New_Proportion'].sum()\n",
    "print(f\"Total proportion sum: {total_prop_sum:.2f}%\")\n",
    "\n",
    "final_df.to_csv(\"full_training_set/mock_community_proportions.tsv\", sep=\"\\t\", index=False)\n",
    "\n",
    "print(\"Mock community proportions saved as 'full_training_set/mock_community_proportions.tsv'\")\n"
   ]
  }
 ],
 "metadata": {
  "kernelspec": {
   "display_name": "base",
   "language": "python",
   "name": "python3"
  },
  "language_info": {
   "codemirror_mode": {
    "name": "ipython",
    "version": 3
   },
   "file_extension": ".py",
   "mimetype": "text/x-python",
   "name": "python",
   "nbconvert_exporter": "python",
   "pygments_lexer": "ipython3",
   "version": "3.11.8"
  }
 },
 "nbformat": 4,
 "nbformat_minor": 5
}

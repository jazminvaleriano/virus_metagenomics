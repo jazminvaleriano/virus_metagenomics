{
 "cells": [
  {
   "cell_type": "code",
   "execution_count": null,
   "id": "13d9e97d",
   "metadata": {},
   "outputs": [
    {
     "name": "stdout",
     "output_type": "stream",
     "text": [
      "/Users/jazminvaleriano/Library/Mobile Documents/com~apple~CloudDocs/03 UNIFR MS/00. SP25/00.MASTER_THESIS/FINAL_CHAPTERS\n"
     ]
    },
    {
     "data": {
      "text/html": [
       "<div>\n",
       "<style scoped>\n",
       "    .dataframe tbody tr th:only-of-type {\n",
       "        vertical-align: middle;\n",
       "    }\n",
       "\n",
       "    .dataframe tbody tr th {\n",
       "        vertical-align: top;\n",
       "    }\n",
       "\n",
       "    .dataframe thead th {\n",
       "        text-align: right;\n",
       "    }\n",
       "</style>\n",
       "<table border=\"1\" class=\"dataframe\">\n",
       "  <thead>\n",
       "    <tr style=\"text-align: right;\">\n",
       "      <th></th>\n",
       "      <th>method</th>\n",
       "      <th>degrees</th>\n",
       "      <th>chi_squared_stat</th>\n",
       "      <th>crit_value</th>\n",
       "      <th>p_value</th>\n",
       "      <th>L1_distance</th>\n",
       "      <th>Reject_null_p&lt;0.0045</th>\n",
       "      <th>Chi2&gt;crit</th>\n",
       "      <th>threshold</th>\n",
       "      <th>dataset</th>\n",
       "      <th>Subset</th>\n",
       "      <th>Adjusted</th>\n",
       "    </tr>\n",
       "  </thead>\n",
       "  <tbody>\n",
       "    <tr>\n",
       "      <th>0</th>\n",
       "      <td>KRAKEN</td>\n",
       "      <td>10</td>\n",
       "      <td>8.11</td>\n",
       "      <td>18.31</td>\n",
       "      <td>0.6180</td>\n",
       "      <td>0.2227</td>\n",
       "      <td>False</td>\n",
       "      <td>False</td>\n",
       "      <td>1</td>\n",
       "      <td>200K_ZM Long (Not adjusted)</td>\n",
       "      <td>200K_ZM Long</td>\n",
       "      <td>False</td>\n",
       "    </tr>\n",
       "    <tr>\n",
       "      <th>1</th>\n",
       "      <td>CENTRIFUGER</td>\n",
       "      <td>10</td>\n",
       "      <td>234.28</td>\n",
       "      <td>18.31</td>\n",
       "      <td>0.0000</td>\n",
       "      <td>0.3401</td>\n",
       "      <td>True</td>\n",
       "      <td>True</td>\n",
       "      <td>1</td>\n",
       "      <td>200K_ZM Long (Not adjusted)</td>\n",
       "      <td>200K_ZM Long</td>\n",
       "      <td>False</td>\n",
       "    </tr>\n",
       "    <tr>\n",
       "      <th>2</th>\n",
       "      <td>CENTRIFUGE</td>\n",
       "      <td>10</td>\n",
       "      <td>8.49</td>\n",
       "      <td>18.31</td>\n",
       "      <td>0.5810</td>\n",
       "      <td>0.3640</td>\n",
       "      <td>False</td>\n",
       "      <td>False</td>\n",
       "      <td>1</td>\n",
       "      <td>200K_ZM Long (Not adjusted)</td>\n",
       "      <td>200K_ZM Long</td>\n",
       "      <td>False</td>\n",
       "    </tr>\n",
       "    <tr>\n",
       "      <th>3</th>\n",
       "      <td>KAIJU</td>\n",
       "      <td>10</td>\n",
       "      <td>147.62</td>\n",
       "      <td>18.31</td>\n",
       "      <td>0.0000</td>\n",
       "      <td>0.7823</td>\n",
       "      <td>True</td>\n",
       "      <td>True</td>\n",
       "      <td>1</td>\n",
       "      <td>200K_ZM Long (Not adjusted)</td>\n",
       "      <td>200K_ZM Long</td>\n",
       "      <td>False</td>\n",
       "    </tr>\n",
       "    <tr>\n",
       "      <th>4</th>\n",
       "      <td>DIAMOND</td>\n",
       "      <td>10</td>\n",
       "      <td>4655.57</td>\n",
       "      <td>18.31</td>\n",
       "      <td>0.0000</td>\n",
       "      <td>0.7555</td>\n",
       "      <td>True</td>\n",
       "      <td>True</td>\n",
       "      <td>1</td>\n",
       "      <td>200K_ZM Long (Not adjusted)</td>\n",
       "      <td>200K_ZM Long</td>\n",
       "      <td>False</td>\n",
       "    </tr>\n",
       "    <tr>\n",
       "      <th>5</th>\n",
       "      <td>MEGAN</td>\n",
       "      <td>10</td>\n",
       "      <td>115.76</td>\n",
       "      <td>18.31</td>\n",
       "      <td>0.0000</td>\n",
       "      <td>0.4031</td>\n",
       "      <td>True</td>\n",
       "      <td>True</td>\n",
       "      <td>1</td>\n",
       "      <td>200K_ZM Long (Not adjusted)</td>\n",
       "      <td>200K_ZM Long</td>\n",
       "      <td>False</td>\n",
       "    </tr>\n",
       "    <tr>\n",
       "      <th>6</th>\n",
       "      <td>KRAKEN</td>\n",
       "      <td>10</td>\n",
       "      <td>108.46</td>\n",
       "      <td>18.31</td>\n",
       "      <td>0.0000</td>\n",
       "      <td>0.3676</td>\n",
       "      <td>True</td>\n",
       "      <td>True</td>\n",
       "      <td>1</td>\n",
       "      <td>200K_ZM Long (length-adjusted)</td>\n",
       "      <td>200K_ZM Long</td>\n",
       "      <td>True</td>\n",
       "    </tr>\n",
       "    <tr>\n",
       "      <th>7</th>\n",
       "      <td>CENTRIFUGER</td>\n",
       "      <td>10</td>\n",
       "      <td>598.82</td>\n",
       "      <td>18.31</td>\n",
       "      <td>0.0000</td>\n",
       "      <td>0.4223</td>\n",
       "      <td>True</td>\n",
       "      <td>True</td>\n",
       "      <td>1</td>\n",
       "      <td>200K_ZM Long (length-adjusted)</td>\n",
       "      <td>200K_ZM Long</td>\n",
       "      <td>True</td>\n",
       "    </tr>\n",
       "    <tr>\n",
       "      <th>8</th>\n",
       "      <td>CENTRIFUGE</td>\n",
       "      <td>10</td>\n",
       "      <td>26.66</td>\n",
       "      <td>18.31</td>\n",
       "      <td>0.0030</td>\n",
       "      <td>0.3884</td>\n",
       "      <td>True</td>\n",
       "      <td>True</td>\n",
       "      <td>1</td>\n",
       "      <td>200K_ZM Long (length-adjusted)</td>\n",
       "      <td>200K_ZM Long</td>\n",
       "      <td>True</td>\n",
       "    </tr>\n",
       "    <tr>\n",
       "      <th>9</th>\n",
       "      <td>KAIJU</td>\n",
       "      <td>10</td>\n",
       "      <td>344.87</td>\n",
       "      <td>18.31</td>\n",
       "      <td>0.0000</td>\n",
       "      <td>0.7580</td>\n",
       "      <td>True</td>\n",
       "      <td>True</td>\n",
       "      <td>1</td>\n",
       "      <td>200K_ZM Long (length-adjusted)</td>\n",
       "      <td>200K_ZM Long</td>\n",
       "      <td>True</td>\n",
       "    </tr>\n",
       "    <tr>\n",
       "      <th>10</th>\n",
       "      <td>DIAMOND</td>\n",
       "      <td>10</td>\n",
       "      <td>2621.15</td>\n",
       "      <td>18.31</td>\n",
       "      <td>0.0000</td>\n",
       "      <td>0.6504</td>\n",
       "      <td>True</td>\n",
       "      <td>True</td>\n",
       "      <td>1</td>\n",
       "      <td>200K_ZM Long (length-adjusted)</td>\n",
       "      <td>200K_ZM Long</td>\n",
       "      <td>True</td>\n",
       "    </tr>\n",
       "    <tr>\n",
       "      <th>11</th>\n",
       "      <td>MEGAN</td>\n",
       "      <td>10</td>\n",
       "      <td>11.55</td>\n",
       "      <td>18.31</td>\n",
       "      <td>0.3161</td>\n",
       "      <td>0.3006</td>\n",
       "      <td>False</td>\n",
       "      <td>False</td>\n",
       "      <td>1</td>\n",
       "      <td>200K_ZM Long (length-adjusted)</td>\n",
       "      <td>200K_ZM Long</td>\n",
       "      <td>True</td>\n",
       "    </tr>\n",
       "    <tr>\n",
       "      <th>12</th>\n",
       "      <td>KRAKEN</td>\n",
       "      <td>10</td>\n",
       "      <td>28.92</td>\n",
       "      <td>18.31</td>\n",
       "      <td>0.0013</td>\n",
       "      <td>1.2471</td>\n",
       "      <td>True</td>\n",
       "      <td>True</td>\n",
       "      <td>1</td>\n",
       "      <td>200K_ZM_SHORT</td>\n",
       "      <td>200K_ZM Short</td>\n",
       "      <td>False</td>\n",
       "    </tr>\n",
       "    <tr>\n",
       "      <th>13</th>\n",
       "      <td>CENTRIFUGER</td>\n",
       "      <td>10</td>\n",
       "      <td>108.84</td>\n",
       "      <td>18.31</td>\n",
       "      <td>0.0000</td>\n",
       "      <td>1.2783</td>\n",
       "      <td>True</td>\n",
       "      <td>True</td>\n",
       "      <td>1</td>\n",
       "      <td>200K_ZM_SHORT</td>\n",
       "      <td>200K_ZM Short</td>\n",
       "      <td>False</td>\n",
       "    </tr>\n",
       "    <tr>\n",
       "      <th>14</th>\n",
       "      <td>CENTRIFUGE</td>\n",
       "      <td>10</td>\n",
       "      <td>53.24</td>\n",
       "      <td>18.31</td>\n",
       "      <td>0.0000</td>\n",
       "      <td>1.1007</td>\n",
       "      <td>True</td>\n",
       "      <td>True</td>\n",
       "      <td>1</td>\n",
       "      <td>200K_ZM_SHORT</td>\n",
       "      <td>200K_ZM Short</td>\n",
       "      <td>False</td>\n",
       "    </tr>\n",
       "    <tr>\n",
       "      <th>15</th>\n",
       "      <td>KAIJU</td>\n",
       "      <td>10</td>\n",
       "      <td>111.95</td>\n",
       "      <td>18.31</td>\n",
       "      <td>0.0000</td>\n",
       "      <td>1.3530</td>\n",
       "      <td>True</td>\n",
       "      <td>True</td>\n",
       "      <td>1</td>\n",
       "      <td>200K_ZM_SHORT</td>\n",
       "      <td>200K_ZM Short</td>\n",
       "      <td>False</td>\n",
       "    </tr>\n",
       "    <tr>\n",
       "      <th>16</th>\n",
       "      <td>DIAMOND</td>\n",
       "      <td>10</td>\n",
       "      <td>1671.74</td>\n",
       "      <td>18.31</td>\n",
       "      <td>0.0000</td>\n",
       "      <td>1.1853</td>\n",
       "      <td>True</td>\n",
       "      <td>True</td>\n",
       "      <td>1</td>\n",
       "      <td>200K_ZM_SHORT</td>\n",
       "      <td>200K_ZM Short</td>\n",
       "      <td>False</td>\n",
       "    </tr>\n",
       "    <tr>\n",
       "      <th>17</th>\n",
       "      <td>MEGAN</td>\n",
       "      <td>10</td>\n",
       "      <td>23.95</td>\n",
       "      <td>18.31</td>\n",
       "      <td>0.0077</td>\n",
       "      <td>1.2668</td>\n",
       "      <td>False</td>\n",
       "      <td>True</td>\n",
       "      <td>1</td>\n",
       "      <td>200K_ZM_SHORT</td>\n",
       "      <td>200K_ZM Short</td>\n",
       "      <td>False</td>\n",
       "    </tr>\n",
       "    <tr>\n",
       "      <th>18</th>\n",
       "      <td>KRAKEN</td>\n",
       "      <td>10</td>\n",
       "      <td>40.62</td>\n",
       "      <td>18.31</td>\n",
       "      <td>0.0000</td>\n",
       "      <td>1.3001</td>\n",
       "      <td>True</td>\n",
       "      <td>True</td>\n",
       "      <td>1</td>\n",
       "      <td>200K_ZM Short (length-adjusted)</td>\n",
       "      <td>200K_ZM Short</td>\n",
       "      <td>True</td>\n",
       "    </tr>\n",
       "    <tr>\n",
       "      <th>19</th>\n",
       "      <td>CENTRIFUGER</td>\n",
       "      <td>10</td>\n",
       "      <td>132.61</td>\n",
       "      <td>18.31</td>\n",
       "      <td>0.0000</td>\n",
       "      <td>1.3008</td>\n",
       "      <td>True</td>\n",
       "      <td>True</td>\n",
       "      <td>1</td>\n",
       "      <td>200K_ZM Short (length-adjusted)</td>\n",
       "      <td>200K_ZM Short</td>\n",
       "      <td>True</td>\n",
       "    </tr>\n",
       "    <tr>\n",
       "      <th>20</th>\n",
       "      <td>CENTRIFUGE</td>\n",
       "      <td>10</td>\n",
       "      <td>62.48</td>\n",
       "      <td>18.31</td>\n",
       "      <td>0.0000</td>\n",
       "      <td>1.1197</td>\n",
       "      <td>True</td>\n",
       "      <td>True</td>\n",
       "      <td>1</td>\n",
       "      <td>200K_ZM Short (length-adjusted)</td>\n",
       "      <td>200K_ZM Short</td>\n",
       "      <td>True</td>\n",
       "    </tr>\n",
       "    <tr>\n",
       "      <th>21</th>\n",
       "      <td>KAIJU</td>\n",
       "      <td>10</td>\n",
       "      <td>133.69</td>\n",
       "      <td>18.31</td>\n",
       "      <td>0.0000</td>\n",
       "      <td>1.3994</td>\n",
       "      <td>True</td>\n",
       "      <td>True</td>\n",
       "      <td>1</td>\n",
       "      <td>200K_ZM Short (length-adjusted)</td>\n",
       "      <td>200K_ZM Short</td>\n",
       "      <td>True</td>\n",
       "    </tr>\n",
       "    <tr>\n",
       "      <th>22</th>\n",
       "      <td>DIAMOND</td>\n",
       "      <td>10</td>\n",
       "      <td>1287.09</td>\n",
       "      <td>18.31</td>\n",
       "      <td>0.0000</td>\n",
       "      <td>1.1510</td>\n",
       "      <td>True</td>\n",
       "      <td>True</td>\n",
       "      <td>1</td>\n",
       "      <td>200K_ZM Short (length-adjusted)</td>\n",
       "      <td>200K_ZM Short</td>\n",
       "      <td>True</td>\n",
       "    </tr>\n",
       "    <tr>\n",
       "      <th>23</th>\n",
       "      <td>MEGAN</td>\n",
       "      <td>10</td>\n",
       "      <td>22.48</td>\n",
       "      <td>18.31</td>\n",
       "      <td>0.0128</td>\n",
       "      <td>1.3156</td>\n",
       "      <td>False</td>\n",
       "      <td>True</td>\n",
       "      <td>1</td>\n",
       "      <td>200K_ZM Short (length-adjusted)</td>\n",
       "      <td>200K_ZM Short</td>\n",
       "      <td>True</td>\n",
       "    </tr>\n",
       "  </tbody>\n",
       "</table>\n",
       "</div>"
      ],
      "text/plain": [
       "         method  degrees  chi_squared_stat  crit_value  p_value  L1_distance  \\\n",
       "0        KRAKEN       10              8.11       18.31   0.6180       0.2227   \n",
       "1   CENTRIFUGER       10            234.28       18.31   0.0000       0.3401   \n",
       "2    CENTRIFUGE       10              8.49       18.31   0.5810       0.3640   \n",
       "3         KAIJU       10            147.62       18.31   0.0000       0.7823   \n",
       "4       DIAMOND       10           4655.57       18.31   0.0000       0.7555   \n",
       "5         MEGAN       10            115.76       18.31   0.0000       0.4031   \n",
       "6        KRAKEN       10            108.46       18.31   0.0000       0.3676   \n",
       "7   CENTRIFUGER       10            598.82       18.31   0.0000       0.4223   \n",
       "8    CENTRIFUGE       10             26.66       18.31   0.0030       0.3884   \n",
       "9         KAIJU       10            344.87       18.31   0.0000       0.7580   \n",
       "10      DIAMOND       10           2621.15       18.31   0.0000       0.6504   \n",
       "11        MEGAN       10             11.55       18.31   0.3161       0.3006   \n",
       "12       KRAKEN       10             28.92       18.31   0.0013       1.2471   \n",
       "13  CENTRIFUGER       10            108.84       18.31   0.0000       1.2783   \n",
       "14   CENTRIFUGE       10             53.24       18.31   0.0000       1.1007   \n",
       "15        KAIJU       10            111.95       18.31   0.0000       1.3530   \n",
       "16      DIAMOND       10           1671.74       18.31   0.0000       1.1853   \n",
       "17        MEGAN       10             23.95       18.31   0.0077       1.2668   \n",
       "18       KRAKEN       10             40.62       18.31   0.0000       1.3001   \n",
       "19  CENTRIFUGER       10            132.61       18.31   0.0000       1.3008   \n",
       "20   CENTRIFUGE       10             62.48       18.31   0.0000       1.1197   \n",
       "21        KAIJU       10            133.69       18.31   0.0000       1.3994   \n",
       "22      DIAMOND       10           1287.09       18.31   0.0000       1.1510   \n",
       "23        MEGAN       10             22.48       18.31   0.0128       1.3156   \n",
       "\n",
       "    Reject_null_p<0.0045  Chi2>crit  threshold  \\\n",
       "0                  False      False          1   \n",
       "1                   True       True          1   \n",
       "2                  False      False          1   \n",
       "3                   True       True          1   \n",
       "4                   True       True          1   \n",
       "5                   True       True          1   \n",
       "6                   True       True          1   \n",
       "7                   True       True          1   \n",
       "8                   True       True          1   \n",
       "9                   True       True          1   \n",
       "10                  True       True          1   \n",
       "11                 False      False          1   \n",
       "12                  True       True          1   \n",
       "13                  True       True          1   \n",
       "14                  True       True          1   \n",
       "15                  True       True          1   \n",
       "16                  True       True          1   \n",
       "17                 False       True          1   \n",
       "18                  True       True          1   \n",
       "19                  True       True          1   \n",
       "20                  True       True          1   \n",
       "21                  True       True          1   \n",
       "22                  True       True          1   \n",
       "23                 False       True          1   \n",
       "\n",
       "                            dataset         Subset  Adjusted  \n",
       "0       200K_ZM Long (Not adjusted)   200K_ZM Long     False  \n",
       "1       200K_ZM Long (Not adjusted)   200K_ZM Long     False  \n",
       "2       200K_ZM Long (Not adjusted)   200K_ZM Long     False  \n",
       "3       200K_ZM Long (Not adjusted)   200K_ZM Long     False  \n",
       "4       200K_ZM Long (Not adjusted)   200K_ZM Long     False  \n",
       "5       200K_ZM Long (Not adjusted)   200K_ZM Long     False  \n",
       "6    200K_ZM Long (length-adjusted)   200K_ZM Long      True  \n",
       "7    200K_ZM Long (length-adjusted)   200K_ZM Long      True  \n",
       "8    200K_ZM Long (length-adjusted)   200K_ZM Long      True  \n",
       "9    200K_ZM Long (length-adjusted)   200K_ZM Long      True  \n",
       "10   200K_ZM Long (length-adjusted)   200K_ZM Long      True  \n",
       "11   200K_ZM Long (length-adjusted)   200K_ZM Long      True  \n",
       "12                    200K_ZM_SHORT  200K_ZM Short     False  \n",
       "13                    200K_ZM_SHORT  200K_ZM Short     False  \n",
       "14                    200K_ZM_SHORT  200K_ZM Short     False  \n",
       "15                    200K_ZM_SHORT  200K_ZM Short     False  \n",
       "16                    200K_ZM_SHORT  200K_ZM Short     False  \n",
       "17                    200K_ZM_SHORT  200K_ZM Short     False  \n",
       "18  200K_ZM Short (length-adjusted)  200K_ZM Short      True  \n",
       "19  200K_ZM Short (length-adjusted)  200K_ZM Short      True  \n",
       "20  200K_ZM Short (length-adjusted)  200K_ZM Short      True  \n",
       "21  200K_ZM Short (length-adjusted)  200K_ZM Short      True  \n",
       "22  200K_ZM Short (length-adjusted)  200K_ZM Short      True  \n",
       "23  200K_ZM Short (length-adjusted)  200K_ZM Short      True  "
      ]
     },
     "execution_count": 1,
     "metadata": {},
     "output_type": "execute_result"
    }
   ],
   "source": [
    "import os\n",
    "import pandas as pd\n",
    "import plotly.graph_objects as go\n",
    "\n",
    "# --- File paths ---\n",
    "paths = [\n",
    "    \"03_Bacterial_mNGS_validation_LONG/200K_ZM Long (Not adjusted)/200K_ZM Long (Not adjusted)-sp-chi-sqrd-1-perc.csv\",\n",
    "    \"03_Bacterial_mNGS_validation_LONG/200K_ZM Long (length-adjusted)/200K_ZM Long (length-adjusted)-sp-chi-sqrd-1-perc.csv\",\n",
    "    \"04_Bacterial_mNGS_validation_SHORT/200K_ZM_SHORT/200K_ZM_SHORT-sp-chi-sqrd-1-perc.csv\",\n",
    "    \"04_Bacterial_mNGS_validation_SHORT/200K_ZM Short (length-adjusted)/200K_ZM Short (length-adjusted)-sp-chi-sqrd-1-perc.csv\"\n",
    "]\n",
    "\n",
    "# --- Load and concatenate all data ---\n",
    "df_all = pd.concat([pd.read_csv(f) for f in paths], ignore_index=True)\n",
    "\n",
    "# Extract subset and adjusted flag\n",
    "df_all['Subset'] = df_all['dataset'].str.replace(r\"\\s*\\(length-adjusted\\)\", \"\", regex=True)\n",
    "df_all['Adjusted'] = df_all['dataset'].str.contains(\"length-adjusted\")\n",
    "\n",
    "\n",
    "# Normalize inconsistent naming\n",
    "df_all['Subset'] = df_all['Subset'].replace({\n",
    "    \"200K_ZM Long (Not adjusted)\": \"200K_ZM Long\",\n",
    "    \"200K_ZM_SHORT\": \"200K_ZM Short\"\n",
    "})\n",
    "# Drop incomplete rows (e.g., MEGAN missing)\n",
    "df_all = df_all.dropna(subset=['L1_distance'])\n",
    "\n",
    "df_all"
   ]
  },
  {
   "cell_type": "code",
   "execution_count": 2,
   "id": "7da11a56",
   "metadata": {},
   "outputs": [
    {
     "data": {
      "application/vnd.plotly.v1+json": {
       "config": {
        "plotlyServerURL": "https://plot.ly"
       },
       "data": [
        {
         "line": {
          "color": "lightgray"
         },
         "mode": "lines",
         "showlegend": false,
         "type": "scatter",
         "x": [
          0.364,
          0.3884,
          null,
          0.3401,
          0.4223,
          null,
          0.7555,
          0.6504,
          null,
          0.7823,
          0.758,
          null,
          0.2227,
          0.3676,
          null,
          0.4031,
          0.3006,
          null,
          1.1007,
          1.1197,
          null,
          1.2783,
          1.3008,
          null,
          1.1853,
          1.151,
          null,
          1.353,
          1.3994,
          null,
          1.2471,
          1.3001,
          null,
          1.2668,
          1.3156,
          null
         ],
         "y": [
          "CENTRIFUGE (200K_ZM Long)",
          "CENTRIFUGE (200K_ZM Long)",
          null,
          "CENTRIFUGER (200K_ZM Long)",
          "CENTRIFUGER (200K_ZM Long)",
          null,
          "DIAMOND (200K_ZM Long)",
          "DIAMOND (200K_ZM Long)",
          null,
          "KAIJU (200K_ZM Long)",
          "KAIJU (200K_ZM Long)",
          null,
          "KRAKEN (200K_ZM Long)",
          "KRAKEN (200K_ZM Long)",
          null,
          "MEGAN (200K_ZM Long)",
          "MEGAN (200K_ZM Long)",
          null,
          "CENTRIFUGE (200K_ZM Short)",
          "CENTRIFUGE (200K_ZM Short)",
          null,
          "CENTRIFUGER (200K_ZM Short)",
          "CENTRIFUGER (200K_ZM Short)",
          null,
          "DIAMOND (200K_ZM Short)",
          "DIAMOND (200K_ZM Short)",
          null,
          "KAIJU (200K_ZM Short)",
          "KAIJU (200K_ZM Short)",
          null,
          "KRAKEN (200K_ZM Short)",
          "KRAKEN (200K_ZM Short)",
          null,
          "MEGAN (200K_ZM Short)",
          "MEGAN (200K_ZM Short)",
          null
         ]
        },
        {
         "marker": {
          "color": "blue",
          "size": 10
         },
         "mode": "markers",
         "name": "Not Adjusted",
         "type": "scatter",
         "x": [
          0.364,
          0.3401,
          0.7555,
          0.7823,
          0.2227,
          0.4031,
          1.1007,
          1.2783,
          1.1853,
          1.353,
          1.2471,
          1.2668
         ],
         "y": [
          "CENTRIFUGE (200K_ZM Long)",
          "CENTRIFUGER (200K_ZM Long)",
          "DIAMOND (200K_ZM Long)",
          "KAIJU (200K_ZM Long)",
          "KRAKEN (200K_ZM Long)",
          "MEGAN (200K_ZM Long)",
          "CENTRIFUGE (200K_ZM Short)",
          "CENTRIFUGER (200K_ZM Short)",
          "DIAMOND (200K_ZM Short)",
          "KAIJU (200K_ZM Short)",
          "KRAKEN (200K_ZM Short)",
          "MEGAN (200K_ZM Short)"
         ]
        },
        {
         "marker": {
          "color": "red",
          "size": 10
         },
         "mode": "markers",
         "name": "Adjusted",
         "type": "scatter",
         "x": [
          0.3884,
          0.4223,
          0.6504,
          0.758,
          0.3676,
          0.3006,
          1.1197,
          1.3008,
          1.151,
          1.3994,
          1.3001,
          1.3156
         ],
         "y": [
          "CENTRIFUGE (200K_ZM Long)",
          "CENTRIFUGER (200K_ZM Long)",
          "DIAMOND (200K_ZM Long)",
          "KAIJU (200K_ZM Long)",
          "KRAKEN (200K_ZM Long)",
          "MEGAN (200K_ZM Long)",
          "CENTRIFUGE (200K_ZM Short)",
          "CENTRIFUGER (200K_ZM Short)",
          "DIAMOND (200K_ZM Short)",
          "KAIJU (200K_ZM Short)",
          "KRAKEN (200K_ZM Short)",
          "MEGAN (200K_ZM Short)"
         ]
        }
       ],
       "layout": {
        "height": 500,
        "legend": {
         "itemclick": false
        },
        "margin": {
         "b": 40,
         "l": 180,
         "r": 50,
         "t": 80
        },
        "shapes": [
         {
          "line": {
           "color": "black",
           "dash": "dash",
           "width": 1
          },
          "type": "line",
          "x0": 0,
          "x1": 1,
          "xref": "paper",
          "y0": "CENTRIFUGE (200K_ZM Short)",
          "y1": "CENTRIFUGE (200K_ZM Short)",
          "yref": "y"
         }
        ],
        "showlegend": true,
        "template": {
         "data": {
          "bar": [
           {
            "error_x": {
             "color": "#2a3f5f"
            },
            "error_y": {
             "color": "#2a3f5f"
            },
            "marker": {
             "line": {
              "color": "#E5ECF6",
              "width": 0.5
             },
             "pattern": {
              "fillmode": "overlay",
              "size": 10,
              "solidity": 0.2
             }
            },
            "type": "bar"
           }
          ],
          "barpolar": [
           {
            "marker": {
             "line": {
              "color": "#E5ECF6",
              "width": 0.5
             },
             "pattern": {
              "fillmode": "overlay",
              "size": 10,
              "solidity": 0.2
             }
            },
            "type": "barpolar"
           }
          ],
          "carpet": [
           {
            "aaxis": {
             "endlinecolor": "#2a3f5f",
             "gridcolor": "white",
             "linecolor": "white",
             "minorgridcolor": "white",
             "startlinecolor": "#2a3f5f"
            },
            "baxis": {
             "endlinecolor": "#2a3f5f",
             "gridcolor": "white",
             "linecolor": "white",
             "minorgridcolor": "white",
             "startlinecolor": "#2a3f5f"
            },
            "type": "carpet"
           }
          ],
          "choropleth": [
           {
            "colorbar": {
             "outlinewidth": 0,
             "ticks": ""
            },
            "type": "choropleth"
           }
          ],
          "contour": [
           {
            "colorbar": {
             "outlinewidth": 0,
             "ticks": ""
            },
            "colorscale": [
             [
              0,
              "#0d0887"
             ],
             [
              0.1111111111111111,
              "#46039f"
             ],
             [
              0.2222222222222222,
              "#7201a8"
             ],
             [
              0.3333333333333333,
              "#9c179e"
             ],
             [
              0.4444444444444444,
              "#bd3786"
             ],
             [
              0.5555555555555556,
              "#d8576b"
             ],
             [
              0.6666666666666666,
              "#ed7953"
             ],
             [
              0.7777777777777778,
              "#fb9f3a"
             ],
             [
              0.8888888888888888,
              "#fdca26"
             ],
             [
              1,
              "#f0f921"
             ]
            ],
            "type": "contour"
           }
          ],
          "contourcarpet": [
           {
            "colorbar": {
             "outlinewidth": 0,
             "ticks": ""
            },
            "type": "contourcarpet"
           }
          ],
          "heatmap": [
           {
            "colorbar": {
             "outlinewidth": 0,
             "ticks": ""
            },
            "colorscale": [
             [
              0,
              "#0d0887"
             ],
             [
              0.1111111111111111,
              "#46039f"
             ],
             [
              0.2222222222222222,
              "#7201a8"
             ],
             [
              0.3333333333333333,
              "#9c179e"
             ],
             [
              0.4444444444444444,
              "#bd3786"
             ],
             [
              0.5555555555555556,
              "#d8576b"
             ],
             [
              0.6666666666666666,
              "#ed7953"
             ],
             [
              0.7777777777777778,
              "#fb9f3a"
             ],
             [
              0.8888888888888888,
              "#fdca26"
             ],
             [
              1,
              "#f0f921"
             ]
            ],
            "type": "heatmap"
           }
          ],
          "heatmapgl": [
           {
            "colorbar": {
             "outlinewidth": 0,
             "ticks": ""
            },
            "colorscale": [
             [
              0,
              "#0d0887"
             ],
             [
              0.1111111111111111,
              "#46039f"
             ],
             [
              0.2222222222222222,
              "#7201a8"
             ],
             [
              0.3333333333333333,
              "#9c179e"
             ],
             [
              0.4444444444444444,
              "#bd3786"
             ],
             [
              0.5555555555555556,
              "#d8576b"
             ],
             [
              0.6666666666666666,
              "#ed7953"
             ],
             [
              0.7777777777777778,
              "#fb9f3a"
             ],
             [
              0.8888888888888888,
              "#fdca26"
             ],
             [
              1,
              "#f0f921"
             ]
            ],
            "type": "heatmapgl"
           }
          ],
          "histogram": [
           {
            "marker": {
             "pattern": {
              "fillmode": "overlay",
              "size": 10,
              "solidity": 0.2
             }
            },
            "type": "histogram"
           }
          ],
          "histogram2d": [
           {
            "colorbar": {
             "outlinewidth": 0,
             "ticks": ""
            },
            "colorscale": [
             [
              0,
              "#0d0887"
             ],
             [
              0.1111111111111111,
              "#46039f"
             ],
             [
              0.2222222222222222,
              "#7201a8"
             ],
             [
              0.3333333333333333,
              "#9c179e"
             ],
             [
              0.4444444444444444,
              "#bd3786"
             ],
             [
              0.5555555555555556,
              "#d8576b"
             ],
             [
              0.6666666666666666,
              "#ed7953"
             ],
             [
              0.7777777777777778,
              "#fb9f3a"
             ],
             [
              0.8888888888888888,
              "#fdca26"
             ],
             [
              1,
              "#f0f921"
             ]
            ],
            "type": "histogram2d"
           }
          ],
          "histogram2dcontour": [
           {
            "colorbar": {
             "outlinewidth": 0,
             "ticks": ""
            },
            "colorscale": [
             [
              0,
              "#0d0887"
             ],
             [
              0.1111111111111111,
              "#46039f"
             ],
             [
              0.2222222222222222,
              "#7201a8"
             ],
             [
              0.3333333333333333,
              "#9c179e"
             ],
             [
              0.4444444444444444,
              "#bd3786"
             ],
             [
              0.5555555555555556,
              "#d8576b"
             ],
             [
              0.6666666666666666,
              "#ed7953"
             ],
             [
              0.7777777777777778,
              "#fb9f3a"
             ],
             [
              0.8888888888888888,
              "#fdca26"
             ],
             [
              1,
              "#f0f921"
             ]
            ],
            "type": "histogram2dcontour"
           }
          ],
          "mesh3d": [
           {
            "colorbar": {
             "outlinewidth": 0,
             "ticks": ""
            },
            "type": "mesh3d"
           }
          ],
          "parcoords": [
           {
            "line": {
             "colorbar": {
              "outlinewidth": 0,
              "ticks": ""
             }
            },
            "type": "parcoords"
           }
          ],
          "pie": [
           {
            "automargin": true,
            "type": "pie"
           }
          ],
          "scatter": [
           {
            "fillpattern": {
             "fillmode": "overlay",
             "size": 10,
             "solidity": 0.2
            },
            "type": "scatter"
           }
          ],
          "scatter3d": [
           {
            "line": {
             "colorbar": {
              "outlinewidth": 0,
              "ticks": ""
             }
            },
            "marker": {
             "colorbar": {
              "outlinewidth": 0,
              "ticks": ""
             }
            },
            "type": "scatter3d"
           }
          ],
          "scattercarpet": [
           {
            "marker": {
             "colorbar": {
              "outlinewidth": 0,
              "ticks": ""
             }
            },
            "type": "scattercarpet"
           }
          ],
          "scattergeo": [
           {
            "marker": {
             "colorbar": {
              "outlinewidth": 0,
              "ticks": ""
             }
            },
            "type": "scattergeo"
           }
          ],
          "scattergl": [
           {
            "marker": {
             "colorbar": {
              "outlinewidth": 0,
              "ticks": ""
             }
            },
            "type": "scattergl"
           }
          ],
          "scattermapbox": [
           {
            "marker": {
             "colorbar": {
              "outlinewidth": 0,
              "ticks": ""
             }
            },
            "type": "scattermapbox"
           }
          ],
          "scatterpolar": [
           {
            "marker": {
             "colorbar": {
              "outlinewidth": 0,
              "ticks": ""
             }
            },
            "type": "scatterpolar"
           }
          ],
          "scatterpolargl": [
           {
            "marker": {
             "colorbar": {
              "outlinewidth": 0,
              "ticks": ""
             }
            },
            "type": "scatterpolargl"
           }
          ],
          "scatterternary": [
           {
            "marker": {
             "colorbar": {
              "outlinewidth": 0,
              "ticks": ""
             }
            },
            "type": "scatterternary"
           }
          ],
          "surface": [
           {
            "colorbar": {
             "outlinewidth": 0,
             "ticks": ""
            },
            "colorscale": [
             [
              0,
              "#0d0887"
             ],
             [
              0.1111111111111111,
              "#46039f"
             ],
             [
              0.2222222222222222,
              "#7201a8"
             ],
             [
              0.3333333333333333,
              "#9c179e"
             ],
             [
              0.4444444444444444,
              "#bd3786"
             ],
             [
              0.5555555555555556,
              "#d8576b"
             ],
             [
              0.6666666666666666,
              "#ed7953"
             ],
             [
              0.7777777777777778,
              "#fb9f3a"
             ],
             [
              0.8888888888888888,
              "#fdca26"
             ],
             [
              1,
              "#f0f921"
             ]
            ],
            "type": "surface"
           }
          ],
          "table": [
           {
            "cells": {
             "fill": {
              "color": "#EBF0F8"
             },
             "line": {
              "color": "white"
             }
            },
            "header": {
             "fill": {
              "color": "#C8D4E3"
             },
             "line": {
              "color": "white"
             }
            },
            "type": "table"
           }
          ]
         },
         "layout": {
          "annotationdefaults": {
           "arrowcolor": "#2a3f5f",
           "arrowhead": 0,
           "arrowwidth": 1
          },
          "autotypenumbers": "strict",
          "coloraxis": {
           "colorbar": {
            "outlinewidth": 0,
            "ticks": ""
           }
          },
          "colorscale": {
           "diverging": [
            [
             0,
             "#8e0152"
            ],
            [
             0.1,
             "#c51b7d"
            ],
            [
             0.2,
             "#de77ae"
            ],
            [
             0.3,
             "#f1b6da"
            ],
            [
             0.4,
             "#fde0ef"
            ],
            [
             0.5,
             "#f7f7f7"
            ],
            [
             0.6,
             "#e6f5d0"
            ],
            [
             0.7,
             "#b8e186"
            ],
            [
             0.8,
             "#7fbc41"
            ],
            [
             0.9,
             "#4d9221"
            ],
            [
             1,
             "#276419"
            ]
           ],
           "sequential": [
            [
             0,
             "#0d0887"
            ],
            [
             0.1111111111111111,
             "#46039f"
            ],
            [
             0.2222222222222222,
             "#7201a8"
            ],
            [
             0.3333333333333333,
             "#9c179e"
            ],
            [
             0.4444444444444444,
             "#bd3786"
            ],
            [
             0.5555555555555556,
             "#d8576b"
            ],
            [
             0.6666666666666666,
             "#ed7953"
            ],
            [
             0.7777777777777778,
             "#fb9f3a"
            ],
            [
             0.8888888888888888,
             "#fdca26"
            ],
            [
             1,
             "#f0f921"
            ]
           ],
           "sequentialminus": [
            [
             0,
             "#0d0887"
            ],
            [
             0.1111111111111111,
             "#46039f"
            ],
            [
             0.2222222222222222,
             "#7201a8"
            ],
            [
             0.3333333333333333,
             "#9c179e"
            ],
            [
             0.4444444444444444,
             "#bd3786"
            ],
            [
             0.5555555555555556,
             "#d8576b"
            ],
            [
             0.6666666666666666,
             "#ed7953"
            ],
            [
             0.7777777777777778,
             "#fb9f3a"
            ],
            [
             0.8888888888888888,
             "#fdca26"
            ],
            [
             1,
             "#f0f921"
            ]
           ]
          },
          "colorway": [
           "#636efa",
           "#EF553B",
           "#00cc96",
           "#ab63fa",
           "#FFA15A",
           "#19d3f3",
           "#FF6692",
           "#B6E880",
           "#FF97FF",
           "#FECB52"
          ],
          "font": {
           "color": "#2a3f5f"
          },
          "geo": {
           "bgcolor": "white",
           "lakecolor": "white",
           "landcolor": "#E5ECF6",
           "showlakes": true,
           "showland": true,
           "subunitcolor": "white"
          },
          "hoverlabel": {
           "align": "left"
          },
          "hovermode": "closest",
          "mapbox": {
           "style": "light"
          },
          "paper_bgcolor": "white",
          "plot_bgcolor": "#E5ECF6",
          "polar": {
           "angularaxis": {
            "gridcolor": "white",
            "linecolor": "white",
            "ticks": ""
           },
           "bgcolor": "#E5ECF6",
           "radialaxis": {
            "gridcolor": "white",
            "linecolor": "white",
            "ticks": ""
           }
          },
          "scene": {
           "xaxis": {
            "backgroundcolor": "#E5ECF6",
            "gridcolor": "white",
            "gridwidth": 2,
            "linecolor": "white",
            "showbackground": true,
            "ticks": "",
            "zerolinecolor": "white"
           },
           "yaxis": {
            "backgroundcolor": "#E5ECF6",
            "gridcolor": "white",
            "gridwidth": 2,
            "linecolor": "white",
            "showbackground": true,
            "ticks": "",
            "zerolinecolor": "white"
           },
           "zaxis": {
            "backgroundcolor": "#E5ECF6",
            "gridcolor": "white",
            "gridwidth": 2,
            "linecolor": "white",
            "showbackground": true,
            "ticks": "",
            "zerolinecolor": "white"
           }
          },
          "shapedefaults": {
           "line": {
            "color": "#2a3f5f"
           }
          },
          "ternary": {
           "aaxis": {
            "gridcolor": "white",
            "linecolor": "white",
            "ticks": ""
           },
           "baxis": {
            "gridcolor": "white",
            "linecolor": "white",
            "ticks": ""
           },
           "bgcolor": "#E5ECF6",
           "caxis": {
            "gridcolor": "white",
            "linecolor": "white",
            "ticks": ""
           }
          },
          "title": {
           "x": 0.05
          },
          "xaxis": {
           "automargin": true,
           "gridcolor": "white",
           "linecolor": "white",
           "ticks": "",
           "title": {
            "standoff": 15
           },
           "zerolinecolor": "white",
           "zerolinewidth": 2
          },
          "yaxis": {
           "automargin": true,
           "gridcolor": "white",
           "linecolor": "white",
           "ticks": "",
           "title": {
            "standoff": 15
           },
           "zerolinecolor": "white",
           "zerolinewidth": 2
          }
         }
        },
        "title": {
         "text": "Species L1 Distance — Adjusted vs Not Adjusted"
        },
        "xaxis": {
         "range": [
          0,
          1.5
         ],
         "title": {
          "text": "L1 Distance"
         }
        },
        "yaxis": {
         "title": {
          "text": "Method (Subset)"
         }
        }
       }
      }
     },
     "metadata": {},
     "output_type": "display_data"
    }
   ],
   "source": [
    "import plotly.graph_objects as go\n",
    "import pandas as pd\n",
    "\n",
    "# Combine method and subset for unique labels\n",
    "df_all['method_subset'] = df_all['method'] + ' (' + df_all['Subset'] + ')'\n",
    "\n",
    "# Pivot to wide format\n",
    "df_pivot = df_all.pivot(index='method_subset', columns='Adjusted', values='L1_distance').reset_index()\n",
    "df_pivot.columns.name = None\n",
    "df_pivot = df_pivot.rename(columns={False: 'Not_Adjusted', True: 'Adjusted'})\n",
    "df_pivot = df_pivot.dropna(subset=['Not_Adjusted', 'Adjusted'])\n",
    "\n",
    "# Add LONG/SHORT classification\n",
    "df_pivot['Subset_Type'] = df_pivot['method_subset'].apply(lambda x: 'LONG' if 'Long' in x else 'SHORT')\n",
    "df_pivot = df_pivot.sort_values(by=['Subset_Type', 'method_subset'], ascending=[True, True]).reset_index(drop=True)\n",
    "\n",
    "# Get ordered y labels\n",
    "y_labels = df_pivot['method_subset'].tolist()\n",
    "\n",
    "# Identify index where SHORT starts (for the dashed line)\n",
    "short_start_index = df_pivot[df_pivot['Subset_Type'] == 'SHORT'].index[0]\n",
    "\n",
    "# Prepare dumbbell data\n",
    "line_x = []\n",
    "line_y = []\n",
    "adjusted_x = []\n",
    "adjusted_y = []\n",
    "not_adjusted_x = []\n",
    "not_adjusted_y = []\n",
    "\n",
    "for _, row in df_pivot.iterrows():\n",
    "    method_subset = row['method_subset']\n",
    "    # Connecting line\n",
    "    line_x.extend([row['Not_Adjusted'], row['Adjusted'], None])\n",
    "    line_y.extend([method_subset, method_subset, None])\n",
    "    # Markers\n",
    "    adjusted_x.append(row['Adjusted'])\n",
    "    adjusted_y.append(method_subset)\n",
    "    not_adjusted_x.append(row['Not_Adjusted'])\n",
    "    not_adjusted_y.append(method_subset)\n",
    "\n",
    "# Create figure\n",
    "fig = go.Figure()\n",
    "\n",
    "# Dumbbell lines\n",
    "fig.add_trace(go.Scatter(\n",
    "    x=line_x,\n",
    "    y=line_y,\n",
    "    mode='lines',\n",
    "    line=dict(color='lightgray'),\n",
    "    showlegend=False\n",
    "))\n",
    "\n",
    "# Not Adjusted (blue)\n",
    "fig.add_trace(go.Scatter(\n",
    "    x=not_adjusted_x,\n",
    "    y=not_adjusted_y,\n",
    "    mode='markers',\n",
    "    name='Not Adjusted',\n",
    "    marker=dict(color='blue', size=10)\n",
    "))\n",
    "\n",
    "# Adjusted (red)\n",
    "fig.add_trace(go.Scatter(\n",
    "    x=adjusted_x,\n",
    "    y=adjusted_y,\n",
    "    mode='markers',\n",
    "    name='Adjusted',\n",
    "    marker=dict(color='red', size=10)\n",
    "))\n",
    "\n",
    "# Add separator line between LONG and SHORT\n",
    "fig.update_layout(\n",
    "    shapes=[\n",
    "        dict(\n",
    "            type='line',\n",
    "            xref='paper',\n",
    "            yref='y',\n",
    "            x0=0,\n",
    "            x1=1,\n",
    "            y0=y_labels[short_start_index],\n",
    "            y1=y_labels[short_start_index],\n",
    "            line=dict(dash='dash', color='black', width=1)\n",
    "        )\n",
    "    ]\n",
    ")\n",
    "\n",
    "# Layout adjustments\n",
    "fig.update_layout(\n",
    "    title=\"Species L1 Distance — Adjusted vs Not Adjusted\",\n",
    "    height=500,\n",
    "    xaxis_title=\"L1 Distance\",\n",
    "    yaxis_title=\"Method (Subset)\",\n",
    "    xaxis=dict(range=[0, 1.5]),\n",
    "    margin=dict(l=180, r=50, t=80, b=40),\n",
    "    legend_itemclick=False,\n",
    "    showlegend=True\n",
    ")\n",
    "\n",
    "fig.show()\n"
   ]
  },
  {
   "cell_type": "code",
   "execution_count": 16,
   "id": "f952d0fa",
   "metadata": {},
   "outputs": [
    {
     "data": {
      "image/png": "[encoded data removed]",
      "text/plain": [
       "<Figure size 1000x600 with 2 Axes>"
      ]
     },
     "metadata": {},
     "output_type": "display_data"
    }
   ],
   "source": [
    "import matplotlib.pyplot as plt\n",
    "import seaborn as sns\n",
    "import pandas as pd\n",
    "\n",
    "# Filtrar LONG subset\n",
    "df_long = df_all[df_all['Subset'] == '200K_ZM Long'].copy()\n",
    "df_long['Adjustment'] = df_long['Adjusted'].map({True: 'Adjusted', False: 'Not Adjusted'})\n",
    "\n",
    "# Estilo\n",
    "sns.set(style=\"whitegrid\")\n",
    "\n",
    "# Ajustar tamaño de fuente global\n",
    "plt.rcParams.update({\n",
    "    'font.size': 14,\n",
    "    'axes.titlesize': 16,\n",
    "    'axes.labelsize': 14,\n",
    "    'xtick.labelsize': 12,\n",
    "    'ytick.labelsize': 12,\n",
    "    'legend.fontsize': 12\n",
    "})\n",
    "\n",
    "# Crear figura con dos ejes\n",
    "fig, (ax1, ax2) = plt.subplots(2, 1, sharex=True, figsize=(10, 6), gridspec_kw={'height_ratios': [1, 2]})\n",
    "\n",
    "# Límites y valor crítico\n",
    "upper_limit = 3000\n",
    "lower_limit = 50\n",
    "critical_value = 18.31\n",
    "\n",
    "# Gráfico inferior\n",
    "barplot2 = sns.barplot(\n",
    "    data=df_long,\n",
    "    x='method',\n",
    "    y='chi_squared_stat',\n",
    "    hue='Adjustment',\n",
    "    palette={'Adjusted': 'red', 'Not Adjusted': 'blue'},\n",
    "    ax=ax2\n",
    ")\n",
    "ax2.axhline(critical_value, color='black', linestyle='--', linewidth=1)\n",
    "ax2.set_ylim(0, lower_limit)\n",
    "ax2.text(\n",
    "    x=len(df_long['method'].unique()) - 0.4,\n",
    "    y=critical_value + 1,\n",
    "    s='Critical value = 18.31',\n",
    "    ha='right',\n",
    "    va='bottom',\n",
    "    fontsize=12,\n",
    "    style='italic',\n",
    "    color='black'\n",
    ")\n",
    "\n",
    "# Gráfico superior\n",
    "barplot1 = sns.barplot(\n",
    "    data=df_long,\n",
    "    x='method',\n",
    "    y='chi_squared_stat',\n",
    "    hue='Adjustment',\n",
    "    palette={'Adjusted': 'red', 'Not Adjusted': 'blue'},\n",
    "    ax=ax1\n",
    ")\n",
    "ax1.set_ylim(500, upper_limit)\n",
    "\n",
    "# Añadir estrellas grandes a barras que superan el valor crítico\n",
    "for i, row in df_long.iterrows():\n",
    "    y_val = row['chi_squared_stat']\n",
    "    x_pos = list(df_long['method'].unique()).index(row['method'])\n",
    "    offset = 10\n",
    "    hue_shift = -0.2 if row['Adjustment'] == 'Not Adjusted' else 0.2\n",
    "\n",
    "    if y_val > critical_value:\n",
    "        if y_val > lower_limit:\n",
    "            ax1.text(\n",
    "                x=x_pos + hue_shift, y=y_val + offset,\n",
    "                s='*', ha='center', va='bottom', fontsize=30, color='black'\n",
    "            )\n",
    "        else:\n",
    "            ax2.text(\n",
    "                x=x_pos + hue_shift, y=y_val + offset,\n",
    "                s='*', ha='center', va='bottom', fontsize=30, color='black'\n",
    "            )\n",
    "\n",
    "# Quitar duplicados de leyenda\n",
    "ax1.legend_.remove()\n",
    "\n",
    "# Estética del eje roto\n",
    "ax1.spines['bottom'].set_visible(False)\n",
    "ax2.spines['top'].set_visible(False)\n",
    "ax1.tick_params(labeltop=False)\n",
    "ax2.xaxis.tick_bottom()\n",
    "\n",
    "# Diagonales de ruptura\n",
    "d = .015\n",
    "kwargs = dict(transform=ax1.transAxes, color='k', clip_on=False)\n",
    "ax1.plot((-d, +d), (-d, +d), **kwargs)\n",
    "ax1.plot((1 - d, 1 + d), (-d, +d), **kwargs)\n",
    "\n",
    "kwargs.update(transform=ax2.transAxes)\n",
    "ax2.plot((-d, +d), (1 - d, 1 + d), **kwargs)\n",
    "ax2.plot((1 - d, 1 + d), (1 - d, 1 + d), **kwargs)\n",
    "\n",
    "# Títulos y etiquetas\n",
    "fig.suptitle('Species Classification GOF test per Method — LONG Subset', fontsize=18, fontweight='bold')\n",
    "ax2.set_xlabel('Method', fontsize=16)\n",
    "ax1.set_ylabel('Chi² Statistic', fontsize=16)\n",
    "ax2.set_ylabel('Chi² Statistic', fontsize=16)\n",
    "ax2.legend(title='Adjustment', loc='center left', bbox_to_anchor=(1.02, 0.5), borderaxespad=0.)\n",
    "\n",
    "plt.tight_layout()\n",
    "plt.subplots_adjust(hspace=0.05)\n",
    "plt.show()\n"
   ]
  },
  {
   "cell_type": "code",
   "execution_count": 17,
   "id": "6046b34f",
   "metadata": {},
   "outputs": [
    {
     "data": {
      "image/png": "[encoded data removed]",
      "text/plain": [
       "<Figure size 1000x600 with 2 Axes>"
      ]
     },
     "metadata": {},
     "output_type": "display_data"
    }
   ],
   "source": [
    "import matplotlib.pyplot as plt\n",
    "import seaborn as sns\n",
    "import pandas as pd\n",
    "\n",
    "# Filtrar LONG subset\n",
    "df_long = df_all[df_all['Subset'] == '200K_ZM Short'].copy()\n",
    "df_long['Adjustment'] = df_long['Adjusted'].map({True: 'Adjusted', False: 'Not Adjusted'})\n",
    "\n",
    "# Estilo\n",
    "sns.set(style=\"whitegrid\")\n",
    "\n",
    "# Ajustar tamaño de fuente global\n",
    "plt.rcParams.update({\n",
    "    'font.size': 14,\n",
    "    'axes.titlesize': 16,\n",
    "    'axes.labelsize': 14,\n",
    "    'xtick.labelsize': 12,\n",
    "    'ytick.labelsize': 12,\n",
    "    'legend.fontsize': 12\n",
    "})\n",
    "\n",
    "# Crear figura con dos ejes\n",
    "fig, (ax1, ax2) = plt.subplots(2, 1, sharex=True, figsize=(10, 6), gridspec_kw={'height_ratios': [1, 2]})\n",
    "\n",
    "# Límites y valor crítico\n",
    "upper_limit = 1300\n",
    "lower_limit = 50\n",
    "critical_value = 18.31\n",
    "\n",
    "# Gráfico inferior\n",
    "barplot2 = sns.barplot(\n",
    "    data=df_long,\n",
    "    x='method',\n",
    "    y='chi_squared_stat',\n",
    "    hue='Adjustment',\n",
    "    palette={'Adjusted': 'red', 'Not Adjusted': 'blue'},\n",
    "    ax=ax2\n",
    ")\n",
    "ax2.axhline(critical_value, color='black', linestyle='--', linewidth=1)\n",
    "ax2.set_ylim(0, lower_limit)\n",
    "ax2.text(\n",
    "    x=len(df_long['method'].unique()) - 0.4,\n",
    "    y=critical_value + 1,\n",
    "    s='Critical value = 18.31',\n",
    "    ha='right',\n",
    "    va='bottom',\n",
    "    fontsize=12,\n",
    "    style='italic',\n",
    "    color='black'\n",
    ")\n",
    "\n",
    "# Gráfico superior\n",
    "barplot1 = sns.barplot(\n",
    "    data=df_long,\n",
    "    x='method',\n",
    "    y='chi_squared_stat',\n",
    "    hue='Adjustment',\n",
    "    palette={'Adjusted': 'red', 'Not Adjusted': 'blue'},\n",
    "    ax=ax1\n",
    ")\n",
    "ax1.set_ylim(200, upper_limit)\n",
    "\n",
    "# Añadir estrellas grandes a barras que superan el valor crítico\n",
    "for i, row in df_long.iterrows():\n",
    "    y_val = row['chi_squared_stat']\n",
    "    x_pos = list(df_long['method'].unique()).index(row['method'])\n",
    "    offset = 10\n",
    "    hue_shift = -0.2 if row['Adjustment'] == 'Not Adjusted' else 0.2\n",
    "\n",
    "    if y_val > critical_value:\n",
    "        if y_val > lower_limit:\n",
    "            ax1.text(\n",
    "                x=x_pos + hue_shift, y=y_val + offset,\n",
    "                s='*', ha='center', va='bottom', fontsize=30, color='black'\n",
    "            )\n",
    "        else:\n",
    "            ax2.text(\n",
    "                x=x_pos + hue_shift, y=y_val + offset,\n",
    "                s='*', ha='center', va='bottom', fontsize=30, color='black'\n",
    "            )\n",
    "\n",
    "# Quitar duplicados de leyenda\n",
    "ax1.legend_.remove()\n",
    "\n",
    "# Estética del eje roto\n",
    "ax1.spines['bottom'].set_visible(False)\n",
    "ax2.spines['top'].set_visible(False)\n",
    "ax1.tick_params(labeltop=False)\n",
    "ax2.xaxis.tick_bottom()\n",
    "\n",
    "# Diagonales de ruptura\n",
    "d = .015\n",
    "kwargs = dict(transform=ax1.transAxes, color='k', clip_on=False)\n",
    "ax1.plot((-d, +d), (-d, +d), **kwargs)\n",
    "ax1.plot((1 - d, 1 + d), (-d, +d), **kwargs)\n",
    "\n",
    "kwargs.update(transform=ax2.transAxes)\n",
    "ax2.plot((-d, +d), (1 - d, 1 + d), **kwargs)\n",
    "ax2.plot((1 - d, 1 + d), (1 - d, 1 + d), **kwargs)\n",
    "\n",
    "# Títulos y etiquetas\n",
    "fig.suptitle('Species Classification GOF test per Method — SHORT Subset', fontsize=18, fontweight='bold')\n",
    "ax2.set_xlabel('Method', fontsize=16)\n",
    "ax1.set_ylabel('Chi² Statistic', fontsize=16)\n",
    "ax2.set_ylabel('Chi² Statistic', fontsize=16)\n",
    "ax2.legend(title='Adjustment', loc='center left', bbox_to_anchor=(1.02, 0.5), borderaxespad=0.)\n",
    "\n",
    "plt.tight_layout()\n",
    "plt.subplots_adjust(hspace=0.05)\n",
    "plt.show()\n"
   ]
  }
 ],
 "metadata": {
  "kernelspec": {
   "display_name": "base",
   "language": "python",
   "name": "python3"
  },
  "language_info": {
   "codemirror_mode": {
    "name": "ipython",
    "version": 3
   },
   "file_extension": ".py",
   "mimetype": "text/x-python",
   "name": "python",
   "nbconvert_exporter": "python",
   "pygments_lexer": "ipython3",
   "version": "3.11.8"
  }
 },
 "nbformat": 4,
 "nbformat_minor": 5
}

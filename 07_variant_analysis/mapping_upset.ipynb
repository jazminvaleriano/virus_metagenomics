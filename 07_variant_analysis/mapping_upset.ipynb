{
 "cells": [
  {
   "cell_type": "code",
   "execution_count": 2,
   "id": "fabe74b6",
   "metadata": {},
   "outputs": [],
   "source": [
    "import os \n",
    "os.chdir(\"/Users/jazminvaleriano/Library/Mobile Documents/com~apple~CloudDocs/03 UNIFR MS/00. SP25/00.MASTER_THESIS/FINAL_CHAPTERS/13_variants_analyisis\")"
   ]
  },
  {
   "cell_type": "code",
   "execution_count": 21,
   "id": "979f9432",
   "metadata": {},
   "outputs": [
    {
     "data": {
      "text/plain": [
       "Parvoviridae\n",
       "True    1\n",
       "True    1\n",
       "True    1\n",
       "True    1\n",
       "True    1\n",
       "True    1\n",
       "True    1\n",
       "True    1\n",
       "True    1\n",
       "Name: ones, dtype: int64"
      ]
     },
     "execution_count": 21,
     "metadata": {},
     "output_type": "execute_result"
    }
   ],
   "source": [
    "import os\n",
    "import pandas as pd\n",
    "import matplotlib.pyplot as plt\n",
    "from upsetplot import UpSet, from_memberships\n",
    "\n",
    "# === CONFIG ===\n",
    "mapping_file = \"01_minimap/barcode42_all_parvoviridae.read_to_ref.tsv\"\n",
    "max_accessions = 10\n",
    "title = \"Read Mapping Overlaps by Accession\"\n",
    "\n",
    "# === Accession → Virus name map ===\n",
    "accession_map = {\n",
    "    \"MW051666.1\": \"Bocavirus\",\n",
    "    \"NC_038546.1\": \"Hokovirus\",\n",
    "    \"MW853950.1\": \"Parvovirus 3\",\n",
    "    \"PP993478.1\": \"Parvoviridae\"\n",
    "}\n",
    "\n",
    "# === LOAD ===\n",
    "map_df = pd.read_csv(\n",
    "    mapping_file, sep=\"\\t\", header=None, usecols=[0, 1],\n",
    "    names=[\"read_id\", \"accession\"], dtype={\"read_id\": str, \"accession\": str}\n",
    ").dropna(subset=[\"read_id\", \"accession\"])\n",
    "\n",
    "# --- PRE-CLEAN ---\n",
    "map_df = map_df.drop_duplicates(subset=[\"read_id\", \"accession\"])\n",
    "\n",
    "# --- Filter: remove accession '*' and keep only those in accession_map ---\n",
    "map_df = map_df[map_df[\"accession\"].isin(accession_map.keys())]\n",
    "\n",
    "if map_df.empty:\n",
    "    raise ValueError(\"No valid mappings left after filtering (check accession map and input).\")\n",
    "\n",
    "# --- Replace accession IDs with human-friendly names ---\n",
    "map_df[\"virus\"] = map_df[\"accession\"].map(accession_map)\n",
    "\n",
    "# --- Keep top-N viruses ---\n",
    "top_viruses = (\n",
    "    map_df[\"virus\"].value_counts()\n",
    "    .head(max_accessions)\n",
    "    .index\n",
    "    .tolist()\n",
    ")\n",
    "filtered = map_df[map_df[\"virus\"].isin(top_viruses)]\n",
    "\n",
    "# --- Build memberships per read ---\n",
    "memberships = (\n",
    "    filtered.groupby(\"read_id\")[\"virus\"]\n",
    "    .apply(lambda s: tuple(sorted(s.unique())))\n",
    "    .tolist()\n",
    ")\n",
    "\n",
    "memberships = [m for m in memberships if m]\n",
    "\n",
    "# --- Build data for UpSet ---\n",
    "data = from_memberships(memberships)\n",
    "\n",
    "data"
   ]
  },
  {
   "cell_type": "code",
   "execution_count": 22,
   "id": "88600355",
   "metadata": {},
   "outputs": [
    {
     "ename": "AttributeError",
     "evalue": "'Index' object has no attribute 'levels'",
     "output_type": "error",
     "traceback": [
      "\u001b[0;31m---------------------------------------------------------------------------\u001b[0m",
      "\u001b[0;31mAttributeError\u001b[0m                            Traceback (most recent call last)",
      "Cell \u001b[0;32mIn[22], line 3\u001b[0m\n\u001b[1;32m      1\u001b[0m \u001b[38;5;66;03m# --- Plot ---\u001b[39;00m\n\u001b[1;32m      2\u001b[0m plt\u001b[38;5;241m.\u001b[39mfigure(figsize\u001b[38;5;241m=\u001b[39m(\u001b[38;5;241m14.5\u001b[39m, \u001b[38;5;241m6\u001b[39m))\n\u001b[0;32m----> 3\u001b[0m UpSet(\n\u001b[1;32m      4\u001b[0m     data,\n\u001b[1;32m      5\u001b[0m     sort_by\u001b[38;5;241m=\u001b[39m\u001b[38;5;124m\"\u001b[39m\u001b[38;5;124mcardinality\u001b[39m\u001b[38;5;124m\"\u001b[39m,\n\u001b[1;32m      6\u001b[0m     sort_categories_by\u001b[38;5;241m=\u001b[39m\u001b[38;5;124m\"\u001b[39m\u001b[38;5;124mcardinality\u001b[39m\u001b[38;5;124m\"\u001b[39m,\n\u001b[1;32m      7\u001b[0m     show_counts\u001b[38;5;241m=\u001b[39m\u001b[38;5;28;01mTrue\u001b[39;00m,\n\u001b[1;32m      8\u001b[0m     subset_size\u001b[38;5;241m=\u001b[39m\u001b[38;5;124m\"\u001b[39m\u001b[38;5;124mcount\u001b[39m\u001b[38;5;124m\"\u001b[39m\n\u001b[1;32m      9\u001b[0m )\u001b[38;5;241m.\u001b[39mplot()\n\u001b[1;32m     11\u001b[0m sample_name \u001b[38;5;241m=\u001b[39m os\u001b[38;5;241m.\u001b[39mpath\u001b[38;5;241m.\u001b[39mbasename(mapping_file)\u001b[38;5;241m.\u001b[39msplit(\u001b[38;5;124m\"\u001b[39m\u001b[38;5;124m_\u001b[39m\u001b[38;5;124m\"\u001b[39m)[\u001b[38;5;241m0\u001b[39m]\n\u001b[1;32m     12\u001b[0m plt\u001b[38;5;241m.\u001b[39msuptitle(\u001b[38;5;124mf\u001b[39m\u001b[38;5;124m\"\u001b[39m\u001b[38;5;132;01m{\u001b[39;00mtitle\u001b[38;5;132;01m}\u001b[39;00m\u001b[38;5;124m — \u001b[39m\u001b[38;5;132;01m{\u001b[39;00msample_name\u001b[38;5;132;01m}\u001b[39;00m\u001b[38;5;124m\"\u001b[39m, fontsize\u001b[38;5;241m=\u001b[39m\u001b[38;5;241m16\u001b[39m, fontweight\u001b[38;5;241m=\u001b[39m\u001b[38;5;124m\"\u001b[39m\u001b[38;5;124mbold\u001b[39m\u001b[38;5;124m\"\u001b[39m)\n",
      "File \u001b[0;32m~/anaconda3/lib/python3.11/site-packages/upsetplot/plotting.py:343\u001b[0m, in \u001b[0;36mUpSet.__init__\u001b[0;34m(self, data, orientation, sort_by, sort_categories_by, subset_size, sum_over, min_subset_size, max_subset_size, max_subset_rank, min_degree, max_degree, facecolor, other_dots_color, shading_color, with_lines, element_size, intersection_plot_elements, totals_plot_elements, show_counts, show_percentages, include_empty_subsets)\u001b[0m\n\u001b[1;32m    340\u001b[0m \u001b[38;5;28mself\u001b[39m\u001b[38;5;241m.\u001b[39m_show_counts \u001b[38;5;241m=\u001b[39m show_counts\n\u001b[1;32m    341\u001b[0m \u001b[38;5;28mself\u001b[39m\u001b[38;5;241m.\u001b[39m_show_percentages \u001b[38;5;241m=\u001b[39m show_percentages\n\u001b[0;32m--> 343\u001b[0m (\u001b[38;5;28mself\u001b[39m\u001b[38;5;241m.\u001b[39mtotal, \u001b[38;5;28mself\u001b[39m\u001b[38;5;241m.\u001b[39m_df, \u001b[38;5;28mself\u001b[39m\u001b[38;5;241m.\u001b[39mintersections, \u001b[38;5;28mself\u001b[39m\u001b[38;5;241m.\u001b[39mtotals) \u001b[38;5;241m=\u001b[39m _process_data(\n\u001b[1;32m    344\u001b[0m     data,\n\u001b[1;32m    345\u001b[0m     sort_by\u001b[38;5;241m=\u001b[39msort_by,\n\u001b[1;32m    346\u001b[0m     sort_categories_by\u001b[38;5;241m=\u001b[39msort_categories_by,\n\u001b[1;32m    347\u001b[0m     subset_size\u001b[38;5;241m=\u001b[39msubset_size,\n\u001b[1;32m    348\u001b[0m     sum_over\u001b[38;5;241m=\u001b[39msum_over,\n\u001b[1;32m    349\u001b[0m     min_subset_size\u001b[38;5;241m=\u001b[39mmin_subset_size,\n\u001b[1;32m    350\u001b[0m     max_subset_size\u001b[38;5;241m=\u001b[39mmax_subset_size,\n\u001b[1;32m    351\u001b[0m     max_subset_rank\u001b[38;5;241m=\u001b[39mmax_subset_rank,\n\u001b[1;32m    352\u001b[0m     min_degree\u001b[38;5;241m=\u001b[39mmin_degree,\n\u001b[1;32m    353\u001b[0m     max_degree\u001b[38;5;241m=\u001b[39mmax_degree,\n\u001b[1;32m    354\u001b[0m     reverse\u001b[38;5;241m=\u001b[39m\u001b[38;5;129;01mnot\u001b[39;00m \u001b[38;5;28mself\u001b[39m\u001b[38;5;241m.\u001b[39m_horizontal,\n\u001b[1;32m    355\u001b[0m     include_empty_subsets\u001b[38;5;241m=\u001b[39minclude_empty_subsets,\n\u001b[1;32m    356\u001b[0m )\n\u001b[1;32m    357\u001b[0m \u001b[38;5;28mself\u001b[39m\u001b[38;5;241m.\u001b[39mcategory_styles \u001b[38;5;241m=\u001b[39m {}\n\u001b[1;32m    358\u001b[0m \u001b[38;5;28mself\u001b[39m\u001b[38;5;241m.\u001b[39msubset_styles \u001b[38;5;241m=\u001b[39m [\n\u001b[1;32m    359\u001b[0m     {\u001b[38;5;124m\"\u001b[39m\u001b[38;5;124mfacecolor\u001b[39m\u001b[38;5;124m\"\u001b[39m: facecolor} \u001b[38;5;28;01mfor\u001b[39;00m i \u001b[38;5;129;01min\u001b[39;00m \u001b[38;5;28mrange\u001b[39m(\u001b[38;5;28mlen\u001b[39m(\u001b[38;5;28mself\u001b[39m\u001b[38;5;241m.\u001b[39mintersections))\n\u001b[1;32m    360\u001b[0m ]\n",
      "File \u001b[0;32m~/anaconda3/lib/python3.11/site-packages/upsetplot/plotting.py:37\u001b[0m, in \u001b[0;36m_process_data\u001b[0;34m(df, sort_by, sort_categories_by, subset_size, sum_over, min_subset_size, max_subset_size, max_subset_rank, min_degree, max_degree, reverse, include_empty_subsets)\u001b[0m\n\u001b[1;32m     22\u001b[0m \u001b[38;5;28;01mdef\u001b[39;00m \u001b[38;5;21m_process_data\u001b[39m(\n\u001b[1;32m     23\u001b[0m     df,\n\u001b[1;32m     24\u001b[0m     \u001b[38;5;241m*\u001b[39m,\n\u001b[0;32m   (...)\u001b[0m\n\u001b[1;32m     35\u001b[0m     include_empty_subsets\u001b[38;5;241m=\u001b[39m\u001b[38;5;28;01mFalse\u001b[39;00m,\n\u001b[1;32m     36\u001b[0m ):\n\u001b[0;32m---> 37\u001b[0m     results \u001b[38;5;241m=\u001b[39m query(\n\u001b[1;32m     38\u001b[0m         df,\n\u001b[1;32m     39\u001b[0m         sort_by\u001b[38;5;241m=\u001b[39msort_by,\n\u001b[1;32m     40\u001b[0m         sort_categories_by\u001b[38;5;241m=\u001b[39msort_categories_by,\n\u001b[1;32m     41\u001b[0m         subset_size\u001b[38;5;241m=\u001b[39msubset_size,\n\u001b[1;32m     42\u001b[0m         sum_over\u001b[38;5;241m=\u001b[39msum_over,\n\u001b[1;32m     43\u001b[0m         min_subset_size\u001b[38;5;241m=\u001b[39mmin_subset_size,\n\u001b[1;32m     44\u001b[0m         max_subset_size\u001b[38;5;241m=\u001b[39mmax_subset_size,\n\u001b[1;32m     45\u001b[0m         max_subset_rank\u001b[38;5;241m=\u001b[39mmax_subset_rank,\n\u001b[1;32m     46\u001b[0m         min_degree\u001b[38;5;241m=\u001b[39mmin_degree,\n\u001b[1;32m     47\u001b[0m         max_degree\u001b[38;5;241m=\u001b[39mmax_degree,\n\u001b[1;32m     48\u001b[0m         include_empty_subsets\u001b[38;5;241m=\u001b[39minclude_empty_subsets,\n\u001b[1;32m     49\u001b[0m     )\n\u001b[1;32m     51\u001b[0m     df \u001b[38;5;241m=\u001b[39m results\u001b[38;5;241m.\u001b[39mdata\n\u001b[1;32m     52\u001b[0m     agg \u001b[38;5;241m=\u001b[39m results\u001b[38;5;241m.\u001b[39msubset_sizes\n",
      "File \u001b[0;32m~/anaconda3/lib/python3.11/site-packages/upsetplot/reformat.py:369\u001b[0m, in \u001b[0;36mquery\u001b[0;34m(data, present, absent, min_subset_size, max_subset_size, max_subset_rank, min_degree, max_degree, sort_by, sort_categories_by, subset_size, sum_over, include_empty_subsets)\u001b[0m\n\u001b[1;32m    236\u001b[0m \u001b[38;5;250m\u001b[39m\u001b[38;5;124;03m\"\"\"Transform and filter a categorised dataset\u001b[39;00m\n\u001b[1;32m    237\u001b[0m \n\u001b[1;32m    238\u001b[0m \u001b[38;5;124;03mRetrieve the set of items and totals corresponding to subsets of interest.\u001b[39;00m\n\u001b[0;32m   (...)\u001b[0m\n\u001b[1;32m    365\u001b[0m \u001b[38;5;124;03m            False     19  1.339895\u001b[39;00m\n\u001b[1;32m    366\u001b[0m \u001b[38;5;124;03m\"\"\"\u001b[39;00m\n\u001b[1;32m    368\u001b[0m data, agg \u001b[38;5;241m=\u001b[39m _aggregate_data(data, subset_size, sum_over)\n\u001b[0;32m--> 369\u001b[0m data \u001b[38;5;241m=\u001b[39m _check_index(data)\n\u001b[1;32m    370\u001b[0m grand_total \u001b[38;5;241m=\u001b[39m agg\u001b[38;5;241m.\u001b[39msum()\n\u001b[1;32m    371\u001b[0m category_totals \u001b[38;5;241m=\u001b[39m [\n\u001b[1;32m    372\u001b[0m     agg[agg\u001b[38;5;241m.\u001b[39mindex\u001b[38;5;241m.\u001b[39mget_level_values(name)\u001b[38;5;241m.\u001b[39mvalues\u001b[38;5;241m.\u001b[39mastype(\u001b[38;5;28mbool\u001b[39m)]\u001b[38;5;241m.\u001b[39msum()\n\u001b[1;32m    373\u001b[0m     \u001b[38;5;28;01mfor\u001b[39;00m name \u001b[38;5;129;01min\u001b[39;00m agg\u001b[38;5;241m.\u001b[39mindex\u001b[38;5;241m.\u001b[39mnames\n\u001b[1;32m    374\u001b[0m ]\n",
      "File \u001b[0;32m~/anaconda3/lib/python3.11/site-packages/upsetplot/reformat.py:71\u001b[0m, in \u001b[0;36m_check_index\u001b[0;34m(df)\u001b[0m\n\u001b[1;32m     69\u001b[0m \u001b[38;5;28;01mdef\u001b[39;00m \u001b[38;5;21m_check_index\u001b[39m(df):\n\u001b[1;32m     70\u001b[0m     \u001b[38;5;66;03m# check all indices are boolean\u001b[39;00m\n\u001b[0;32m---> 71\u001b[0m     \u001b[38;5;28;01mif\u001b[39;00m \u001b[38;5;129;01mnot\u001b[39;00m \u001b[38;5;28mall\u001b[39m({\u001b[38;5;28;01mTrue\u001b[39;00m, \u001b[38;5;28;01mFalse\u001b[39;00m} \u001b[38;5;241m>\u001b[39m\u001b[38;5;241m=\u001b[39m \u001b[38;5;28mset\u001b[39m(level) \u001b[38;5;28;01mfor\u001b[39;00m level \u001b[38;5;129;01min\u001b[39;00m df\u001b[38;5;241m.\u001b[39mindex\u001b[38;5;241m.\u001b[39mlevels):\n\u001b[1;32m     72\u001b[0m         \u001b[38;5;28;01mraise\u001b[39;00m \u001b[38;5;167;01mValueError\u001b[39;00m(\n\u001b[1;32m     73\u001b[0m             \u001b[38;5;124m\"\u001b[39m\u001b[38;5;124mThe DataFrame has values in its index that are not \u001b[39m\u001b[38;5;124m\"\u001b[39m \u001b[38;5;124m\"\u001b[39m\u001b[38;5;124mboolean\u001b[39m\u001b[38;5;124m\"\u001b[39m\n\u001b[1;32m     74\u001b[0m         )\n\u001b[1;32m     75\u001b[0m     df \u001b[38;5;241m=\u001b[39m df\u001b[38;5;241m.\u001b[39mcopy(deep\u001b[38;5;241m=\u001b[39m\u001b[38;5;28;01mFalse\u001b[39;00m)\n",
      "\u001b[0;31mAttributeError\u001b[0m: 'Index' object has no attribute 'levels'"
     ]
    },
    {
     "data": {
      "text/plain": [
       "<Figure size 1450x600 with 0 Axes>"
      ]
     },
     "metadata": {},
     "output_type": "display_data"
    }
   ],
   "source": [
    "\n",
    "# --- Plot ---\n",
    "plt.figure(figsize=(14.5, 6))\n",
    "UpSet(\n",
    "    data,\n",
    "    sort_by=\"cardinality\",\n",
    "    sort_categories_by=\"cardinality\",\n",
    "    show_counts=True,\n",
    "    subset_size=\"count\"\n",
    ").plot()\n",
    "\n",
    "sample_name = os.path.basename(mapping_file).split(\"_\")[0]\n",
    "plt.suptitle(f\"{title} — {sample_name}\", fontsize=16, fontweight=\"bold\")\n",
    "plt.tight_layout()\n",
    "# plt.savefig(f\"{sample_name}_upset.pdf\")\n",
    "plt.show()\n"
   ]
  },
  {
   "cell_type": "code",
   "execution_count": null,
   "id": "77dc480b",
   "metadata": {},
   "outputs": [],
   "source": [
    "\n",
    "# === PLOT UpSet ===\n",
    "plt.figure(figsize=(14.5, 6))\n",
    "up = UpSet(\n",
    "    data,\n",
    "    sort_by=\"cardinality\",            # sort intersections by size\n",
    "    sort_categories_by=\"cardinality\", # sort individual accessions by total size\n",
    "    show_counts=True\n",
    ")\n",
    "up.plot()\n",
    "\n",
    "plt.suptitle(f\"{title} — {sample_name}\", fontsize=16, fontweight=\"bold\")\n",
    "plt.tight_layout()\n",
    "# plt.savefig(f\"{sample_name}_upset.pdf\")\n",
    "plt.show()"
   ]
  }
 ],
 "metadata": {
  "kernelspec": {
   "display_name": "base",
   "language": "python",
   "name": "python3"
  },
  "language_info": {
   "codemirror_mode": {
    "name": "ipython",
    "version": 3
   },
   "file_extension": ".py",
   "mimetype": "text/x-python",
   "name": "python",
   "nbconvert_exporter": "python",
   "pygments_lexer": "ipython3",
   "version": "3.11.8"
  }
 },
 "nbformat": 4,
 "nbformat_minor": 5
}
